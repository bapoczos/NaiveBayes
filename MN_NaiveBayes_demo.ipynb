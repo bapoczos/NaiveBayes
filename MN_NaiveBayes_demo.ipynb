{
 "metadata": {
  "name": "",
  "signature": "sha256:44f7ce7951608383a0b30dd180d09fb6314c457ad88224589f58fe619640a280"
 },
 "nbformat": 3,
 "nbformat_minor": 0,
 "worksheets": [
  {
   "cells": [
    {
     "cell_type": "heading",
     "level": 1,
     "metadata": {},
     "source": [
      "Multinomial Naive Bayes Demo"
     ]
    },
    {
     "cell_type": "code",
     "collapsed": false,
     "input": [
      "import numpy as np\n",
      "from sklearn.naive_bayes import MultinomialNB"
     ],
     "language": "python",
     "metadata": {},
     "outputs": [],
     "prompt_number": 9
    },
    {
     "cell_type": "markdown",
     "metadata": {},
     "source": [
      "First create input-output pairs: (X,y). In this case we will have 3 instances each having 4 features. The features have to be nonnegative. E.g. Count numbers"
     ]
    },
    {
     "cell_type": "code",
     "collapsed": false,
     "input": [
      "X=np.array([[20,20,31,32],[20,33,17,30],[10,12,13,15]]) # shape: num_of_instances * num_of_features\n",
      "X"
     ],
     "language": "python",
     "metadata": {},
     "outputs": [
      {
       "metadata": {},
       "output_type": "pyout",
       "prompt_number": 14,
       "text": [
        "array([[20, 20, 31, 32],\n",
        "       [20, 33, 17, 30],\n",
        "       [10, 12, 13, 15]])"
       ]
      }
     ],
     "prompt_number": 14
    },
    {
     "cell_type": "code",
     "collapsed": false,
     "input": [
      "y = np.array([0, 1, 1])# class labels of the 3 instances. Can be 0,1,2,... K"
     ],
     "language": "python",
     "metadata": {},
     "outputs": [],
     "prompt_number": 16
    },
    {
     "cell_type": "code",
     "collapsed": false,
     "input": [
      "clf = MultinomialNB(alpha=0, class_prior=None, fit_prior=True)"
     ],
     "language": "python",
     "metadata": {},
     "outputs": [],
     "prompt_number": 12
    },
    {
     "cell_type": "markdown",
     "metadata": {},
     "source": [
      "Training a multinomial naive bayes classifier is only 1 line with sklearn:"
     ]
    },
    {
     "cell_type": "code",
     "collapsed": false,
     "input": [
      "clf.fit(X, y)"
     ],
     "language": "python",
     "metadata": {},
     "outputs": [
      {
       "metadata": {},
       "output_type": "pyout",
       "prompt_number": 17,
       "text": [
        "MultinomialNB(alpha=0, class_prior=None, fit_prior=True)"
       ]
      }
     ],
     "prompt_number": 17
    },
    {
     "cell_type": "markdown",
     "metadata": {},
     "source": [
      "Now let us test the classifier on a test instance:"
     ]
    },
    {
     "cell_type": "code",
     "collapsed": false,
     "input": [
      "Xtest=[13,10,19,20]\n",
      "Xtest"
     ],
     "language": "python",
     "metadata": {},
     "outputs": [
      {
       "metadata": {},
       "output_type": "pyout",
       "prompt_number": 20,
       "text": [
        "[13, 10, 19, 20]"
       ]
      }
     ],
     "prompt_number": 20
    },
    {
     "cell_type": "code",
     "collapsed": false,
     "input": [
      "print(clf.predict(Xtest)) # the predicted class label is 0"
     ],
     "language": "python",
     "metadata": {},
     "outputs": [
      {
       "output_type": "stream",
       "stream": "stdout",
       "text": [
        "[0]\n"
       ]
      }
     ],
     "prompt_number": 22
    },
    {
     "cell_type": "markdown",
     "metadata": {},
     "source": [
      "These are the predicted class probabilities:"
     ]
    },
    {
     "cell_type": "code",
     "collapsed": false,
     "input": [
      "clf.predict_proba(Xtest)"
     ],
     "language": "python",
     "metadata": {},
     "outputs": [
      {
       "metadata": {},
       "output_type": "pyout",
       "prompt_number": 23,
       "text": [
        "array([[ 0.95422538,  0.04577462]])"
       ]
      }
     ],
     "prompt_number": 23
    },
    {
     "cell_type": "heading",
     "level": 4,
     "metadata": {},
     "source": [
      "Now let us see how to calculate these probabilities from scratch"
     ]
    },
    {
     "cell_type": "markdown",
     "metadata": {},
     "source": [
      "First let us count the features for each class."
     ]
    },
    {
     "cell_type": "code",
     "collapsed": false,
     "input": [
      "clf.feature_count_   # shape: num_of_classes * num_of_features"
     ],
     "language": "python",
     "metadata": {},
     "outputs": [
      {
       "metadata": {},
       "output_type": "pyout",
       "prompt_number": 24,
       "text": [
        "array([[ 20.,  20.,  31.,  32.],\n",
        "       [ 30.,  45.,  30.,  45.]])"
       ]
      }
     ],
     "prompt_number": 24
    },
    {
     "cell_type": "markdown",
     "metadata": {},
     "source": [
      "normalize the rows to have sum 1"
     ]
    },
    {
     "cell_type": "code",
     "collapsed": false,
     "input": [
      "np.exp(clf.feature_log_prob_) #P(x_i|y) i=1,2,3,4"
     ],
     "language": "python",
     "metadata": {},
     "outputs": [
      {
       "metadata": {},
       "output_type": "pyout",
       "prompt_number": 25,
       "text": [
        "array([[ 0.19417476,  0.19417476,  0.30097087,  0.31067961],\n",
        "       [ 0.2       ,  0.3       ,  0.2       ,  0.3       ]])"
       ]
      }
     ],
     "prompt_number": 25
    },
    {
     "cell_type": "markdown",
     "metadata": {},
     "source": [
      "Take the log of each entry to calculate the log probabilities"
     ]
    },
    {
     "cell_type": "code",
     "collapsed": false,
     "input": [
      "clf.feature_log_prob_ #logP(x_i|y) i=1,2,3,4"
     ],
     "language": "python",
     "metadata": {},
     "outputs": [
      {
       "metadata": {},
       "output_type": "pyout",
       "prompt_number": 10,
       "text": [
        "array([[-1.63899671, -1.63899671, -1.20074178, -1.16899309],\n",
        "       [-1.60943791, -1.2039728 , -1.60943791, -1.2039728 ]])"
       ]
      }
     ],
     "prompt_number": 10
    },
    {
     "cell_type": "markdown",
     "metadata": {},
     "source": [
      "Now calculate the class priors. First count the number of each class in the training set"
     ]
    },
    {
     "cell_type": "code",
     "collapsed": false,
     "input": [
      "clf.class_count_"
     ],
     "language": "python",
     "metadata": {},
     "outputs": [
      {
       "metadata": {},
       "output_type": "pyout",
       "prompt_number": 26,
       "text": [
        "array([ 1.,  2.])"
       ]
      }
     ],
     "prompt_number": 26
    },
    {
     "cell_type": "markdown",
     "metadata": {},
     "source": [
      "normalize the class count to get the class prior"
     ]
    },
    {
     "cell_type": "code",
     "collapsed": false,
     "input": [
      "np.exp(clf.class_log_prior_)"
     ],
     "language": "python",
     "metadata": {},
     "outputs": [
      {
       "metadata": {},
       "output_type": "pyout",
       "prompt_number": 27,
       "text": [
        "array([ 0.33333333,  0.66666667])"
       ]
      }
     ],
     "prompt_number": 27
    },
    {
     "cell_type": "markdown",
     "metadata": {},
     "source": [
      "and the class log prior"
     ]
    },
    {
     "cell_type": "code",
     "collapsed": false,
     "input": [
      "clf.class_log_prior_"
     ],
     "language": "python",
     "metadata": {},
     "outputs": [
      {
       "metadata": {},
       "output_type": "pyout",
       "prompt_number": 29,
       "text": [
        "array([-1.09861229, -0.40546511])"
       ]
      }
     ],
     "prompt_number": 29
    },
    {
     "cell_type": "markdown",
     "metadata": {},
     "source": [
      "Now let us go back to the feature log probabilities that we already calculated:"
     ]
    },
    {
     "cell_type": "code",
     "collapsed": false,
     "input": [
      "np.exp(clf.feature_log_prob_.T)"
     ],
     "language": "python",
     "metadata": {},
     "outputs": [
      {
       "metadata": {},
       "output_type": "pyout",
       "prompt_number": 30,
       "text": [
        "array([[ 0.19417476,  0.2       ],\n",
        "       [ 0.19417476,  0.3       ],\n",
        "       [ 0.30097087,  0.2       ],\n",
        "       [ 0.31067961,  0.3       ]])"
       ]
      }
     ],
     "prompt_number": 30
    },
    {
     "cell_type": "code",
     "collapsed": false,
     "input": [
      "clf.feature_log_prob_.T"
     ],
     "language": "python",
     "metadata": {},
     "outputs": [
      {
       "metadata": {},
       "output_type": "pyout",
       "prompt_number": 31,
       "text": [
        "array([[-1.63899671, -1.60943791],\n",
        "       [-1.63899671, -1.2039728 ],\n",
        "       [-1.20074178, -1.60943791],\n",
        "       [-1.16899309, -1.2039728 ]])"
       ]
      }
     ],
     "prompt_number": 31
    },
    {
     "cell_type": "markdown",
     "metadata": {},
     "source": [
      "Calculate the inner product of this matrix with the features of the test instance:"
     ]
    },
    {
     "cell_type": "code",
     "collapsed": false,
     "input": [
      "np.dot(Xtest, clf.feature_log_prob_.T)"
     ],
     "language": "python",
     "metadata": {},
     "outputs": [
      {
       "metadata": {},
       "output_type": "pyout",
       "prompt_number": 16,
       "text": [
        "array([-83.89088004, -87.62119733])"
       ]
      }
     ],
     "prompt_number": 16
    },
    {
     "cell_type": "markdown",
     "metadata": {},
     "source": [
      "If we add the class log prior to this we get the join log likelihood:"
     ]
    },
    {
     "cell_type": "code",
     "collapsed": false,
     "input": [
      "joint_log_likelihood = clf.class_log_prior_ + np.dot(Xtest, clf.feature_log_prob_.T)"
     ],
     "language": "python",
     "metadata": {},
     "outputs": [],
     "prompt_number": 32
    },
    {
     "cell_type": "code",
     "collapsed": false,
     "input": [
      "joint_log_likelihood"
     ],
     "language": "python",
     "metadata": {},
     "outputs": [
      {
       "metadata": {},
       "output_type": "pyout",
       "prompt_number": 18,
       "text": [
        "array([-84.98949233, -88.02666244])"
       ]
      }
     ],
     "prompt_number": 18
    },
    {
     "cell_type": "markdown",
     "metadata": {},
     "source": [
      "And from this the joint likelihood:"
     ]
    },
    {
     "cell_type": "code",
     "collapsed": false,
     "input": [
      "np.exp(joint_log_likelihood)"
     ],
     "language": "python",
     "metadata": {},
     "outputs": [
      {
       "metadata": {},
       "output_type": "pyout",
       "prompt_number": 33,
       "text": [
        "array([  1.22894505e-37,   5.89530453e-39])"
       ]
      }
     ],
     "prompt_number": 33
    },
    {
     "cell_type": "markdown",
     "metadata": {},
     "source": [
      "These numbers are pretty small... and all that left is to normalize them to get a prob distribution on the class labels:"
     ]
    },
    {
     "cell_type": "code",
     "collapsed": false,
     "input": [
      "np.exp(joint_log_likelihood)/sum(np.exp(joint_log_likelihood))"
     ],
     "language": "python",
     "metadata": {},
     "outputs": [
      {
       "metadata": {},
       "output_type": "pyout",
       "prompt_number": 35,
       "text": [
        "array([ 0.95422538,  0.04577462])"
       ]
      }
     ],
     "prompt_number": 35
    },
    {
     "cell_type": "markdown",
     "metadata": {},
     "source": [
      "These are indeed the same numbers that clf.predict_proba(Xtest) provided"
     ]
    },
    {
     "cell_type": "markdown",
     "metadata": {},
     "source": [
      "The above normalization, however, can easily underflow because we need to deal with very small numbers. \n",
      "A better approach is to normalize in the log space"
     ]
    },
    {
     "cell_type": "code",
     "collapsed": false,
     "input": [
      "log_normalizing_xtest = np.log(np.sum(np.exp(joint_log_likelihood)))"
     ],
     "language": "python",
     "metadata": {},
     "outputs": [],
     "prompt_number": 40
    },
    {
     "cell_type": "code",
     "collapsed": false,
     "input": [
      "log_normalizing_xtest"
     ],
     "language": "python",
     "metadata": {},
     "outputs": [
      {
       "metadata": {},
       "output_type": "pyout",
       "prompt_number": 42,
       "text": [
        "-84.942636938259014"
       ]
      }
     ],
     "prompt_number": 42
    },
    {
     "cell_type": "code",
     "collapsed": false,
     "input": [
      "log_prob_pred_xtest=joint_log_likelihood - log_normalizing_xtest"
     ],
     "language": "python",
     "metadata": {},
     "outputs": [],
     "prompt_number": 43
    },
    {
     "cell_type": "code",
     "collapsed": false,
     "input": [
      "log_prob_pred_xtest"
     ],
     "language": "python",
     "metadata": {},
     "outputs": [
      {
       "metadata": {},
       "output_type": "pyout",
       "prompt_number": 44,
       "text": [
        "array([-0.04685539, -3.0840255 ])"
       ]
      }
     ],
     "prompt_number": 44
    },
    {
     "cell_type": "code",
     "collapsed": false,
     "input": [
      "np.exp(log_prob_pred_xtest)"
     ],
     "language": "python",
     "metadata": {},
     "outputs": [
      {
       "metadata": {},
       "output_type": "pyout",
       "prompt_number": 45,
       "text": [
        "array([ 0.95422538,  0.04577462])"
       ]
      }
     ],
     "prompt_number": 45
    },
    {
     "cell_type": "markdown",
     "metadata": {},
     "source": [
      "This is indeed the same as clf.predict_proba(Xtest) provides.  "
     ]
    },
    {
     "cell_type": "code",
     "collapsed": false,
     "input": [],
     "language": "python",
     "metadata": {},
     "outputs": []
    }
   ],
   "metadata": {}
  }
 ]
}