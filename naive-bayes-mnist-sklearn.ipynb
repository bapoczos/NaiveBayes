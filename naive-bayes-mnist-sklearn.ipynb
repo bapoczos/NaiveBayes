{
 "metadata": {
  "kernelspec": {
   "display_name": "Python 2",
   "language": "python",
   "name": "python2"
  },
  "language_info": {
   "codemirror_mode": {
    "name": "ipython",
    "version": 2
   },
   "file_extension": ".py",
   "mimetype": "text/x-python",
   "name": "python",
   "nbconvert_exporter": "python",
   "pygments_lexer": "ipython2",
   "version": "2.7.6"
  },
  "name": "",
  "signature": "sha256:2e3e819263fd37795bdebed3198f21a0e6a366b6321a43a70c4eead7952572fb"
 },
 "nbformat": 3,
 "nbformat_minor": 0,
 "worksheets": [
  {
   "cells": [
    {
     "cell_type": "markdown",
     "metadata": {},
     "source": [
      "# Naive Bayes on MNIST dataset\n",
      "Based on the code of Bikramjot Hanzra, CMU SCS\n",
      "\n",
      "The first step is to download the handwritten image dataset. "
     ]
    },
    {
     "cell_type": "code",
     "collapsed": false,
     "input": [
      "%pylab inline\n",
      "# Fetch the MNIST handwritten digit dataset\n",
      "from sklearn.datasets import fetch_mldata\n",
      "mnist = fetch_mldata('MNIST original', data_home=\"../data\")"
     ],
     "language": "python",
     "metadata": {},
     "outputs": [
      {
       "output_type": "stream",
       "stream": "stdout",
       "text": [
        "Populating the interactive namespace from numpy and matplotlib\n"
       ]
      }
     ],
     "prompt_number": 1
    },
    {
     "cell_type": "markdown",
     "metadata": {},
     "source": [
      "# Let's display some data :)\n",
      "\n",
      "Now let's explore the data."
     ]
    },
    {
     "cell_type": "code",
     "collapsed": false,
     "input": [
      "# Display the number of samples \n",
      "print \"(Number of samples, No. of pixels) = \", mnist.data.shape\n",
      "\n",
      "# Display 9 number randomly selectly\n",
      "for c in range(1, 10):\n",
      "    subplot(3, 3,c)\n",
      "    i = randint(mnist.data.shape[0])\n",
      "    im = mnist.data[i].reshape((28,28))\n",
      "    axis(\"off\")\n",
      "    title(\"Label = {}\".format(mnist.target[i]))\n",
      "    imshow(im, cmap='gray')"
     ],
     "language": "python",
     "metadata": {},
     "outputs": [
      {
       "output_type": "stream",
       "stream": "stdout",
       "text": [
        "(Number of samples, No. of pixels) =  (70000, 784)\n"
       ]
      },
      {
       "metadata": {},
       "output_type": "display_data",
       "png": "[encoded data removed]",
       "text": [
        "<matplotlib.figure.Figure at 0x9ca74f0>"
       ]
      }
     ],
     "prompt_number": 2
    },
    {
     "cell_type": "heading",
     "level": 1,
     "metadata": {},
     "source": [
      "Split the data into training and testing data"
     ]
    },
    {
     "cell_type": "code",
     "collapsed": false,
     "input": [
      "# Split the data into training and test data\n",
      "from sklearn.cross_validation import train_test_split\n",
      "x_train, x_test, y_train, y_test = train_test_split(mnist.data, mnist.target, test_size=0.05, random_state=42)\n",
      "\n",
      "# Which is same as \n",
      "# x_train = mnist.data[:split]\n",
      "# y_train = mnist.target[:split]\n",
      "# x_test = mnist.data[split:]\n",
      "# y_test = mnist.target[split:]"
     ],
     "language": "python",
     "metadata": {},
     "outputs": [],
     "prompt_number": 3
    },
    {
     "cell_type": "code",
     "collapsed": false,
     "input": [
      "x_train.shape"
     ],
     "language": "python",
     "metadata": {},
     "outputs": [
      {
       "metadata": {},
       "output_type": "pyout",
       "prompt_number": 4,
       "text": [
        "(66500, 784)"
       ]
      }
     ],
     "prompt_number": 4
    },
    {
     "cell_type": "markdown",
     "metadata": {},
     "source": [
      "This is how values typically look like:"
     ]
    },
    {
     "cell_type": "code",
     "collapsed": false,
     "input": [
      "x_train[1,300:400]"
     ],
     "language": "python",
     "metadata": {},
     "outputs": [
      {
       "metadata": {},
       "output_type": "pyout",
       "prompt_number": 5,
       "text": [
        "array([  0,   0,   0,   0,   0,   0,   0,   0,   0,   0,   0,   0,   0,\n",
        "         0,   0, 233, 253, 215,  36,   0,   0,   0,   0,   0,   0, 187,\n",
        "       253,  84,   0,   0,   0,   0,   0,   0,   0,   0,   0,   0,   0,\n",
        "         0,   0,   0,   0, 128, 156,  11,   0,   0,   0,   0,   0,   0,\n",
        "         0, 166, 253, 105,   0,   0,   0,   0,   0,   0,   0,   0,   0,\n",
        "         0,   0,   0,   0,   0,   0,   0,   0,   0,   0,   0,   0,   0,\n",
        "         0,   0,   0, 227, 253, 105,   0,   0,   0,   0,   0,   0,   0,\n",
        "         0,   0,   0,   0,   0,   0,   0,   0,   0], dtype=uint8)"
       ]
      }
     ],
     "prompt_number": 5
    },
    {
     "cell_type": "heading",
     "level": 1,
     "metadata": {},
     "source": [
      "Prepare the classifier"
     ]
    },
    {
     "cell_type": "code",
     "collapsed": true,
     "input": [
      "# Create the Multinomial Naive Bayes Classifier\n",
      "from sklearn.naive_bayes import MultinomialNB\n",
      "clf = MultinomialNB()"
     ],
     "language": "python",
     "metadata": {},
     "outputs": [],
     "prompt_number": 6
    },
    {
     "cell_type": "heading",
     "level": 1,
     "metadata": {},
     "source": [
      "Perform the predictions and display the results"
     ]
    },
    {
     "cell_type": "code",
     "collapsed": false,
     "input": [
      "# Perform the predictions\n",
      "clf.fit(x_train,y_train)\n",
      "# Perform the predictions\n",
      "y_predicted = clf.predict(x_test)\n",
      "# Calculate the accuracy of the prediction\n",
      "from sklearn.metrics import accuracy_score\n",
      "print \"Accuracy = {} %\".format(accuracy_score(y_test, y_predicted)*100)\n"
     ],
     "language": "python",
     "metadata": {},
     "outputs": [
      {
       "output_type": "stream",
       "stream": "stdout",
       "text": [
        "Accuracy = 81.7142857143 %\n"
       ]
      }
     ],
     "prompt_number": 7
    }
   ],
   "metadata": {}
  }
 ]
}